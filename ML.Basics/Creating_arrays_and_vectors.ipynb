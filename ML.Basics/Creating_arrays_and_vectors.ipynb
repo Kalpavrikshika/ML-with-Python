{
 "cells": [
  {
   "cell_type": "code",
   "execution_count": 1,
   "metadata": {},
   "outputs": [
    {
     "name": "stdout",
     "output_type": "stream",
     "text": [
      "[1 2 3]\n",
      "[[1]\n",
      " [2]\n",
      " [3]]\n"
     ]
    }
   ],
   "source": [
    "\"\"\"Creating a one dimensional array/vector\"\"\"\n",
    "import numpy as np \n",
    "#create a row\n",
    "array_row = np.array([1,2,3])\n",
    "#create a column\n",
    "array_col = np.array([[1],\n",
    "                      [2],\n",
    "                      [3]])\n",
    "print (array_row)\n",
    "print (array_col)"
   ]
  },
  {
   "cell_type": "code",
   "execution_count": 3,
   "metadata": {},
   "outputs": [
    {
     "name": "stdout",
     "output_type": "stream",
     "text": [
      "[[1 2]\n",
      " [3 4]\n",
      " [5 6]]\n"
     ]
    }
   ],
   "source": [
    "\"\"\"Creating a one two-dimensional array/matrix\"\"\"\n",
    "import numpy as np\n",
    "np_matrix = np.array([[1,2],\n",
    "                   [3,4],\n",
    "                   [5,6]])\n",
    "print(np_matrix)"
   ]
  },
  {
   "cell_type": "code",
   "execution_count": null,
   "metadata": {},
   "outputs": [],
   "source": [
    "\"\"\"Arrays are the de-facto data structure of numpy\"\"\""
   ]
  },
  {
   "cell_type": "code",
   "execution_count": 4,
   "metadata": {},
   "outputs": [
    {
     "name": "stdout",
     "output_type": "stream",
     "text": [
      "[[0 0]\n",
      " [0 1]\n",
      " [3 0]]\n",
      "  (1, 1)\t1\n",
      "  (2, 0)\t3\n"
     ]
    }
   ],
   "source": [
    "\"\"\"Sparse matrices only store nonzero elements and assume all other values will be zero,\n",
    "leading to significant computational savings\"\"\"\n",
    "import numpy as np \n",
    "from scipy import sparse \n",
    "matrix = np.array([[0,0],\n",
    "          [0,1],\n",
    "          [3,0]])\n",
    "#compressed sparced row (csr)\n",
    "sparse_matrix = sparse.csr_matrix(matrix)\n",
    "print(matrix),\n",
    "print (sparse_matrix)"
   ]
  },
  {
   "cell_type": "code",
   "execution_count": 5,
   "metadata": {},
   "outputs": [
    {
     "name": "stdout",
     "output_type": "stream",
     "text": [
      "[[0 0 0 0 0 0 0 0 0 0]\n",
      " [0 1 0 0 0 0 0 0 0 0]\n",
      " [3 0 0 0 0 0 0 0 0 0]]\n",
      "  (1, 1)\t1\n",
      "  (2, 0)\t3\n"
     ]
    }
   ],
   "source": [
    "\"\"\"Creating a larger matrix\"\"\"\n",
    "large_array = np.array([[0, 0, 0, 0, 0, 0, 0, 0, 0, 0],\n",
    "          [0, 1, 0, 0, 0, 0, 0, 0, 0, 0],\n",
    "          [3, 0, 0, 0, 0, 0, 0, 0, 0, 0]])\n",
    "sparse_matrix = sparse.csr_matrix(large_array)\n",
    "print(large_array)\n",
    "print(sparse_matrix)"
   ]
  },
  {
   "cell_type": "code",
   "execution_count": 37,
   "metadata": {},
   "outputs": [
    {
     "name": "stdout",
     "output_type": "stream",
     "text": [
      "[1 2 3 4 5 6]\n",
      "[[1 2 3]\n",
      " [4 5 6]\n",
      " [7 8 9]]\n",
      "3\n",
      "5\n",
      "[1 2 3 4 5 6]\n",
      "[1 2 3]\n",
      "[4 5 6]\n",
      "6\n",
      "[[1 2 3]\n",
      " [4 5 6]]\n",
      "[[2]\n",
      " [5]\n",
      " [8]]\n"
     ]
    }
   ],
   "source": [
    "\"\"\"Selecting elements in a vector and matrix\"\"\"\n",
    "import numpy as np \n",
    "np_vector = np.array([1, 2, 3, 4, 5, 6])\n",
    "print(np_vector)\n",
    "np_matrix = np.array([[1,2,3],\n",
    "                      [4,5,6],\n",
    "                      [7,8,9]])\n",
    "print(np_matrix)\n",
    "# Select third element of vector\n",
    "print(np_vector[2])\n",
    "# Select second row, second column\n",
    "print(np_matrix[1,1])\n",
    "# Select all elements of a vector\n",
    "print(np_vector[:])\n",
    "# Select everything up to and including the third element\n",
    "print(np_vector[:3])\n",
    "# Select everything after the third element\n",
    "print(np_vector[3:])\n",
    "# Select the last element\n",
    "print(np_vector[-1])\n",
    "# Select the first two rows and all columns of a matrix\n",
    "print(np_matrix[:2,:])\n",
    "# Select all rows and the second column\n",
    "print(np_matrix[:,1:2])\n"
   ]
  },
  {
   "cell_type": "code",
   "execution_count": 5,
   "metadata": {},
   "outputs": [
    {
     "data": {
      "text/plain": [
       "12"
      ]
     },
     "execution_count": 5,
     "metadata": {},
     "output_type": "execute_result"
    }
   ],
   "source": [
    "import numpy as np\n",
    "matrix_1 = np.array([[1,2,3,4],\n",
    "          [5,6,7,8],\n",
    "          [9,10,11,12]])\n",
    "matrix_1.shape\n",
    "matrix_1.size\n",
    "matrix_1.ndim"
   ]
  },
  {
   "cell_type": "code",
   "execution_count": null,
   "metadata": {},
   "outputs": [],
   "source": []
  }
 ],
 "metadata": {
  "kernelspec": {
   "display_name": "Python 3",
   "language": "python",
   "name": "python3"
  },
  "language_info": {
   "codemirror_mode": {
    "name": "ipython",
    "version": 3
   },
   "file_extension": ".py",
   "mimetype": "text/x-python",
   "name": "python",
   "nbconvert_exporter": "python",
   "pygments_lexer": "ipython3",
   "version": "3.7.4"
  }
 },
 "nbformat": 4,
 "nbformat_minor": 2
}
