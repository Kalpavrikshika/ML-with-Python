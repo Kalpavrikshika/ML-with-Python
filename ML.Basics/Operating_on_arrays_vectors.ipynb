{
 "cells": [
  {
   "cell_type": "code",
   "execution_count": null,
   "metadata": {},
   "outputs": [],
   "source": [
    "\"\"\"To manipulate multiple elements in an array-vectorize an array\"\"\""
   ]
  },
  {
   "cell_type": "code",
   "execution_count": 3,
   "metadata": {},
   "outputs": [
    {
     "data": {
      "text/plain": [
       "array([[101, 102, 103],\n",
       "       [104, 105, 106],\n",
       "       [107, 108, 109]])"
      ]
     },
     "execution_count": 3,
     "metadata": {},
     "output_type": "execute_result"
    }
   ],
   "source": [
    "import numpy as np\n",
    "matrix_1 = np.array([[1,2,3],\n",
    "         [4,5,6],\n",
    "         [7,8,9]])\n",
    "#create function that adds 100 to something \n",
    "add_100 = lambda i: i+100\n",
    "\"\"\"vectorize function = It’s worth noting that vectorize is essentially a\n",
    "for loop over the elements and does not increase performance.\"\"\"\n",
    "vectorized_add_100 = np.vectorize(add_100)\n",
    "vectorized_add_100(array_1)"
   ]
  },
  {
   "cell_type": "code",
   "execution_count": 8,
   "metadata": {},
   "outputs": [
    {
     "data": {
      "text/plain": [
       "(array([7, 8, 9]), array([1, 4, 7]))"
      ]
     },
     "execution_count": 8,
     "metadata": {},
     "output_type": "execute_result"
    }
   ],
   "source": [
    "\"\"\"Finding max and min of an array\"\"\"\n",
    "import numpy as np \n",
    "matrix_1 = np.array([[1,2,3],\n",
    "                    [4,5,6],\n",
    "                    [7,8,9]])\n",
    "np.max(matrix_1), np.min(matrix_1)\n",
    "\n",
    "# Find maximum element in each column\n",
    "np.max(matrix_1, axis=0),np.min(matrix_1, axis=1)"
   ]
  },
  {
   "cell_type": "code",
   "execution_count": 12,
   "metadata": {},
   "outputs": [
    {
     "data": {
      "text/plain": [
       "array([4., 5., 6.])"
      ]
     },
     "execution_count": 12,
     "metadata": {},
     "output_type": "execute_result"
    }
   ],
   "source": [
    "\"\"\"Calculate matrix's mean, variance and standard deviation\"\"\"\n",
    "import numpy as np \n",
    "matrix_1 = np.array([[1,2,3],\n",
    "         [4,5,6],\n",
    "         [7,8,9]])\n",
    "#return the mean \n",
    "np.mean(matrix_1)\n",
    "#return variance\n",
    "np.var(matrix_1)\n",
    "#standard deviation \n",
    "np.std(matrix_1)\n",
    "#you can also find the mean for an axis instead of a matrix\n",
    "np.mean(matrix_1, 0)"
   ]
  },
  {
   "cell_type": "code",
   "execution_count": 23,
   "metadata": {},
   "outputs": [
    {
     "data": {
      "text/plain": [
       "array([[ 1,  2,  3,  4,  5,  6],\n",
       "       [ 7,  8,  9, 10, 11, 12]])"
      ]
     },
     "execution_count": 23,
     "metadata": {},
     "output_type": "execute_result"
    }
   ],
   "source": [
    "\"\"\"You want to change the shape (number of rows and columns) of an array without\n",
    "changing the element values.\"\"\"\n",
    "import numpy as np \n",
    "matrix_1 = np.array([[1,2,3],\n",
    "        [4,5,6],\n",
    "        [7,8,9],\n",
    "        [10,11,12]])\n",
    "\"\"\"Reshape matrix from 4x6 into 2x6 matrix without changing elements\"\"\"\n",
    "\n",
    "matrix_1.reshape((2,6))"
   ]
  },
  {
   "cell_type": "code",
   "execution_count": null,
   "metadata": {},
   "outputs": [],
   "source": []
  }
 ],
 "metadata": {
  "kernelspec": {
   "display_name": "Python 3",
   "language": "python",
   "name": "python3"
  },
  "language_info": {
   "codemirror_mode": {
    "name": "ipython",
    "version": 3
   },
   "file_extension": ".py",
   "mimetype": "text/x-python",
   "name": "python",
   "nbconvert_exporter": "python",
   "pygments_lexer": "ipython3",
   "version": "3.7.4"
  }
 },
 "nbformat": 4,
 "nbformat_minor": 2
}
